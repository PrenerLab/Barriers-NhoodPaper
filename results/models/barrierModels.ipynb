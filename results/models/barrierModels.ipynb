{
 "cells": [
  {
   "cell_type": "code",
   "execution_count": 3,
   "metadata": {},
   "outputs": [],
   "source": [
    "import pysal as pysal\n",
    "import numpy as np"
   ]
  },
  {
   "cell_type": "code",
   "execution_count": 8,
   "metadata": {},
   "outputs": [],
   "source": [
    "# grid data pathways\n",
    "shp_path = \"../../data/clean/gridDataCurrent.shp\"\n",
    "dbf_path = \"../../data/clean/gridDataCurrent.dbf\""
   ]
  },
  {
   "cell_type": "code",
   "execution_count": 9,
   "metadata": {},
   "outputs": [
    {
     "name": "stdout",
     "output_type": "stream",
     "text": [
      "['OBJECTID_1', 'OBJECTID', 'PageName', 'PageNumber', 'area_km', 'pop16', 'nhblk16', 'blk16', 'pov16', 'pov_det16', 'hu16', 'oohu16', 'pop70', 'black70', 'pov_det70', 'pov70', 'p_nhblk16', 'p_blk16', 'p_pov16', 'p_oohu16', 'p_black70', 'p_pov70', 'p_popChg', 'p_blkChg', 'p_povChg', 'pop80', 'nhblk80', 'dst_bk80', 'barriers', 'v_crimes', 'vc_rate', 'OBJECTID_2', 'p_vac16', 'p_vac80', 'p_vac70', 'p_vacChg80', 'p_vacChg70', 'Shape_Area', 'Shape_Leng', 'Shape_Ar_1']\n"
     ]
    }
   ],
   "source": [
    "# store function to open grid shapefile\n",
    "f = pysal.open(dbf_path)\n",
    "# View columns in the dataset\n",
    "print(f.header)"
   ]
  },
  {
   "cell_type": "code",
   "execution_count": 11,
   "metadata": {},
   "outputs": [
    {
     "name": "stdout",
     "output_type": "stream",
     "text": [
      "205\n",
      "[(2, 33), (3, 22), (4, 150)]\n"
     ]
    }
   ],
   "source": [
    "# create Rook spatial weight spatial weight\n",
    "w = pysal.weights.Rook.from_shapefile(shp_path)\n",
    "print(w.n) # view number of observations\n",
    "print(w.histogram) # view histogram of neighbors"
   ]
  },
  {
   "cell_type": "code",
   "execution_count": 13,
   "metadata": {},
   "outputs": [
    {
     "name": "stdout",
     "output_type": "stream",
     "text": [
      "(205, 1)\n",
      "(205, 1)\n"
     ]
    }
   ],
   "source": [
    "# read in dependent variables: St. louis violent crime counts and barrier counts\n",
    "y1 = np.array([f.by_col('v_crimes')]).T\n",
    "print(y1.shape)\n",
    "y2 = np.array([f.by_col('barriers')]).T\n",
    "print(y2.shape)"
   ]
  },
  {
   "cell_type": "code",
   "execution_count": 14,
   "metadata": {},
   "outputs": [
    {
     "name": "stdout",
     "output_type": "stream",
     "text": [
      "Global Moran's I For Violent Crime Counts 0.58347\n",
      "P-Value 0.00000\n",
      "Global Moran's I For Barrier Counts 0.45146\n",
      "P-Value 0.00000\n"
     ]
    }
   ],
   "source": [
    "# create global moran's i\n",
    "mi1 = pysal.Moran(y1, w, two_tailed=False)\n",
    "print(\"Global Moran's I For Violent Crime Counts \" \"%.5f\"%mi1.I)\n",
    "print(\"P-Value \" \"%.5f\"%mi1.p_norm)\n",
    "\n",
    "mi2 = pysal.Moran(y2, w, two_tailed=False)\n",
    "print(\"Global Moran's I For Barrier Counts \" \"%.5f\"%mi2.I)\n",
    "print(\"P-Value \" \"%.5f\"%mi2.p_norm)"
   ]
  },
  {
   "cell_type": "markdown",
   "metadata": {},
   "source": [
    "## Regression"
   ]
  },
  {
   "cell_type": "code",
   "execution_count": 15,
   "metadata": {},
   "outputs": [
    {
     "name": "stdout",
     "output_type": "stream",
     "text": [
      "(205, 6)\n",
      "(205, 6)\n",
      "(205, 5)\n",
      "(205, 1)\n"
     ]
    }
   ],
   "source": [
    "# Create arrays for explanatory variables.\n",
    "x1_names = ['p_nhblk16', 'p_pov16', 'p_popChg', 'p_vac16', 'p_vacChg70', 'barriers']\n",
    "x1 = np.array([f.by_col(var) for var in x1_names]).T\n",
    "print(x1.shape)\n",
    "\n",
    "x2_names = ['p_nhblk16', 'p_pov16', 'p_popChg', 'p_vac16', 'pop16', 'barriers']\n",
    "x2 = np.array([f.by_col(var) for var in x2_names]).T\n",
    "print(x2.shape)\n",
    "\n",
    "x3_names = ['p_nhblk16', 'p_pov16', 'p_popChg', 'p_vac16', 'pop16']\n",
    "x3 = np.array([f.by_col(var) for var in x3_names]).T\n",
    "print(x3.shape)\n",
    "\n",
    "x4_names = ['barriers']\n",
    "x4 = np.array([f.by_col(var) for var in x4_names]).T\n",
    "print(x4.shape)"
   ]
  },
  {
   "cell_type": "code",
   "execution_count": 16,
   "metadata": {},
   "outputs": [],
   "source": [
    "# create name for dependent variables\n",
    "y1_name = 'v_crimes'\n",
    "y2_name = 'barriers'"
   ]
  },
  {
   "cell_type": "code",
   "execution_count": 18,
   "metadata": {},
   "outputs": [
    {
     "name": "stdout",
     "output_type": "stream",
     "text": [
      "REGRESSION\n",
      "----------\n",
      "SUMMARY OF OUTPUT: ORDINARY LEAST SQUARES\n",
      "-----------------------------------------\n",
      "Data set            :     unknown\n",
      "Weights matrix      :     unknown\n",
      "Dependent Variable  :    v_crimes                Number of Observations:         205\n",
      "Mean dependent var  :     28.0732                Number of Variables   :           2\n",
      "S.D. dependent var  :     33.3659                Degrees of Freedom    :         203\n",
      "R-squared           :      0.1028\n",
      "Adjusted R-squared  :      0.0984\n",
      "Sum squared residual:  203769.198                F-statistic           :     23.2526\n",
      "Sigma-square        :    1003.789                Prob(F-statistic)     :   2.783e-06\n",
      "S.E. of regression  :      31.683                Log likelihood        :    -998.310\n",
      "Sigma-square ML     :     993.996                Akaike info criterion :    2000.620\n",
      "S.E of regression ML:     31.5277                Schwarz criterion     :    2007.266\n",
      "\n",
      "White Standard Errors\n",
      "------------------------------------------------------------------------------------\n",
      "            Variable     Coefficient       Std.Error     t-Statistic     Probability\n",
      "------------------------------------------------------------------------------------\n",
      "            CONSTANT      22.8094174       2.4140914       9.4484483       0.0000000\n",
      "            barriers       3.8538194       0.7588432       5.0785449       0.0000009\n",
      "------------------------------------------------------------------------------------\n",
      "\n",
      "REGRESSION DIAGNOSTICS\n",
      "MULTICOLLINEARITY CONDITION NUMBER            1.608\n",
      "\n",
      "TEST ON NORMALITY OF ERRORS\n",
      "TEST                             DF        VALUE           PROB\n",
      "Jarque-Bera                       2         478.210           0.0000\n",
      "\n",
      "DIAGNOSTICS FOR HETEROSKEDASTICITY\n",
      "RANDOM COEFFICIENTS\n",
      "TEST                             DF        VALUE           PROB\n",
      "Breusch-Pagan test                1           0.039           0.8431\n",
      "Koenker-Bassett test              1           0.010           0.9220\n",
      "\n",
      "SPECIFICATION ROBUST TEST\n",
      "TEST                             DF        VALUE           PROB\n",
      "White                             2           0.542           0.7625\n",
      "\n",
      "DIAGNOSTICS FOR SPATIAL DEPENDENCE\n",
      "TEST                           MI/DF       VALUE           PROB\n",
      "Moran's I (error)              0.5690        10.925           0.0000\n",
      "Lagrange Multiplier (lag)         1         115.877           0.0000\n",
      "Robust LM (lag)                   1           2.275           0.1314\n",
      "Lagrange Multiplier (error)       1         114.192           0.0000\n",
      "Robust LM (error)                 1           0.590           0.4425\n",
      "Lagrange Multiplier (SARMA)       2         116.467           0.0000\n",
      "\n",
      "================================ END OF REPORT =====================================\n",
      "REGRESSION\n",
      "----------\n",
      "SUMMARY OF OUTPUT: ORDINARY LEAST SQUARES\n",
      "-----------------------------------------\n",
      "Data set            :     unknown\n",
      "Weights matrix      :     unknown\n",
      "Dependent Variable  :    v_crimes                Number of Observations:         205\n",
      "Mean dependent var  :     28.0732                Number of Variables   :           7\n",
      "S.D. dependent var  :     33.3659                Degrees of Freedom    :         198\n",
      "R-squared           :      0.6075\n",
      "Adjusted R-squared  :      0.5956\n",
      "Sum squared residual:   89142.437                F-statistic           :     51.0747\n",
      "Sigma-square        :     450.214                Prob(F-statistic)     :   1.167e-37\n",
      "S.E. of regression  :      21.218                Log likelihood        :    -913.568\n",
      "Sigma-square ML     :     434.841                Akaike info criterion :    1841.136\n",
      "S.E of regression ML:     20.8528                Schwarz criterion     :    1864.397\n",
      "\n",
      "White Standard Errors\n",
      "------------------------------------------------------------------------------------\n",
      "            Variable     Coefficient       Std.Error     t-Statistic     Probability\n",
      "------------------------------------------------------------------------------------\n",
      "            CONSTANT     -38.9424054       6.2063559      -6.2746008       0.0000000\n",
      "           p_nhblk16      20.0827000       7.0675388       2.8415408       0.0049594\n",
      "             p_pov16      25.6859790      18.0537876       1.4227474       0.1563830\n",
      "            p_popChg      16.4284812      10.5144550       1.5624663       0.1197751\n",
      "             p_vac16     101.5015213      32.4426506       3.1286445       0.0020212\n",
      "               pop16       0.0201951       0.0023536       8.5806204       0.0000000\n",
      "            barriers       1.3355521       0.7011793       1.9047227       0.0582656\n",
      "------------------------------------------------------------------------------------\n",
      "\n",
      "REGRESSION DIAGNOSTICS\n",
      "MULTICOLLINEARITY CONDITION NUMBER           11.985\n",
      "\n",
      "TEST ON NORMALITY OF ERRORS\n",
      "TEST                             DF        VALUE           PROB\n",
      "Jarque-Bera                       2          60.969           0.0000\n",
      "\n",
      "DIAGNOSTICS FOR HETEROSKEDASTICITY\n",
      "RANDOM COEFFICIENTS\n",
      "TEST                             DF        VALUE           PROB\n",
      "Breusch-Pagan test                6         119.040           0.0000\n",
      "Koenker-Bassett test              6          60.115           0.0000\n",
      "\n",
      "SPECIFICATION ROBUST TEST\n",
      "TEST                             DF        VALUE           PROB\n",
      "White                            27         115.999           0.0000\n",
      "\n",
      "DIAGNOSTICS FOR SPATIAL DEPENDENCE\n",
      "TEST                           MI/DF       VALUE           PROB\n",
      "Moran's I (error)              0.3243         6.671           0.0000\n",
      "Lagrange Multiplier (lag)         1          40.022           0.0000\n",
      "Robust LM (lag)                   1           4.686           0.0304\n",
      "Lagrange Multiplier (error)       1          37.105           0.0000\n",
      "Robust LM (error)                 1           1.770           0.1834\n",
      "Lagrange Multiplier (SARMA)       2          41.791           0.0000\n",
      "\n",
      "================================ END OF REPORT =====================================\n",
      "REGRESSION\n",
      "----------\n",
      "SUMMARY OF OUTPUT: SPATIAL TWO STAGE LEAST SQUARES\n",
      "--------------------------------------------------\n",
      "Data set            :     unknown\n",
      "Weights matrix      :     unknown\n",
      "Dependent Variable  :    v_crimes                Number of Observations:         205\n",
      "Mean dependent var  :     28.0732                Number of Variables   :           8\n",
      "S.D. dependent var  :     33.3659                Degrees of Freedom    :         197\n",
      "Pseudo R-squared    :      0.6893\n",
      "Spatial Pseudo R-squared:  0.6136\n",
      "\n",
      "White Standard Errors\n",
      "------------------------------------------------------------------------------------\n",
      "            Variable     Coefficient       Std.Error     z-Statistic     Probability\n",
      "------------------------------------------------------------------------------------\n",
      "            CONSTANT     -30.9560103       5.9252862      -5.2243908       0.0000002\n",
      "           p_nhblk16      13.8820562       7.4196054       1.8709966       0.0613456\n",
      "             p_pov16       8.4759888      16.8109891       0.5041933       0.6141255\n",
      "            p_popChg      13.7283077       8.9921809       1.5266939       0.1268371\n",
      "             p_vac16      85.2173126      27.6562586       3.0813030       0.0020610\n",
      "               pop16       0.0153471       0.0024469       6.2720538       0.0000000\n",
      "            barriers       1.2773729       0.6371852       2.0047120       0.0449938\n",
      "          W_v_crimes       0.3525180       0.1418304       2.4854901       0.0129373\n",
      "------------------------------------------------------------------------------------\n",
      "Instrumented: W_v_crimes\n",
      "Instruments: W_barriers, W_p_nhblk16, W_p_popChg, W_p_pov16, W_p_vac16,\n",
      "             W_pop16\n",
      "\n",
      "DIAGNOSTICS FOR SPATIAL DEPENDENCE\n",
      "TEST                           MI/DF       VALUE           PROB\n",
      "Anselin-Kelejian Test             1           1.401          0.2366\n",
      "================================ END OF REPORT =====================================\n"
     ]
    }
   ],
   "source": [
    "# Crime Count Models - OLS and GMM Spatial Lag\n",
    "\n",
    "ols_vc_count_bar = pysal.spreg.OLS(y1, x4, w=w, name_y=y1_name, name_x=x4_names, spat_diag=True, moran=True, white_test=True, robust='white')\n",
    "print(ols_vc_count_bar.summary)\n",
    "\n",
    "ols_vc_count = pysal.spreg.OLS(y1, x2, w=w, name_y=y1_name, name_x=x2_names, spat_diag=True, moran=True, white_test=True, robust='white')\n",
    "print(ols_vc_count.summary)\n",
    "\n",
    "gmm_lag_vc_count = pysal.spreg.twosls_sp.GM_Lag(y1, x2, w=w, name_y=y1_name, name_x=x2_names, w_lags=1, spat_diag=True, robust='white')\n",
    "print(gmm_lag_vc_count.summary)"
   ]
  },
  {
   "cell_type": "code",
   "execution_count": 20,
   "metadata": {},
   "outputs": [
    {
     "name": "stdout",
     "output_type": "stream",
     "text": [
      "REGRESSION\n",
      "----------\n",
      "SUMMARY OF OUTPUT: ORDINARY LEAST SQUARES\n",
      "-----------------------------------------\n",
      "Data set            :     unknown\n",
      "Weights matrix      :     unknown\n",
      "Dependent Variable  :    barriers                Number of Observations:         205\n",
      "Mean dependent var  :      1.3659                Number of Variables   :           6\n",
      "S.D. dependent var  :      2.7756                Degrees of Freedom    :         199\n",
      "R-squared           :      0.1899\n",
      "Adjusted R-squared  :      0.1696\n",
      "Sum squared residual:    1273.084                F-statistic           :      9.3312\n",
      "Sigma-square        :       6.397                Prob(F-statistic)     :   5.306e-08\n",
      "S.E. of regression  :       2.529                Log likelihood        :    -478.067\n",
      "Sigma-square ML     :       6.210                Akaike info criterion :     968.133\n",
      "S.E of regression ML:      2.4920                Schwarz criterion     :     988.071\n",
      "\n",
      "White Standard Errors\n",
      "------------------------------------------------------------------------------------\n",
      "            Variable     Coefficient       Std.Error     t-Statistic     Probability\n",
      "------------------------------------------------------------------------------------\n",
      "            CONSTANT      -1.2588650       0.5102942      -2.4669394       0.0144724\n",
      "           p_nhblk16       2.2274131       1.0311980       2.1600246       0.0319664\n",
      "             p_pov16      -0.1600204       2.2093678      -0.0724281       0.9423339\n",
      "            p_popChg      -3.9286568       1.0538128      -3.7280406       0.0002515\n",
      "             p_vac16      -5.9570015       3.7013890      -1.6093962       0.1091149\n",
      "               pop16       0.0007200       0.0001589       4.5321052       0.0000101\n",
      "------------------------------------------------------------------------------------\n",
      "\n",
      "REGRESSION DIAGNOSTICS\n",
      "MULTICOLLINEARITY CONDITION NUMBER           11.573\n",
      "\n",
      "TEST ON NORMALITY OF ERRORS\n",
      "TEST                             DF        VALUE           PROB\n",
      "Jarque-Bera                       2         266.359           0.0000\n",
      "\n",
      "DIAGNOSTICS FOR HETEROSKEDASTICITY\n",
      "RANDOM COEFFICIENTS\n",
      "TEST                             DF        VALUE           PROB\n",
      "Breusch-Pagan test                5          56.390           0.0000\n",
      "Koenker-Bassett test              5          18.844           0.0021\n",
      "\n",
      "SPECIFICATION ROBUST TEST\n",
      "TEST                             DF        VALUE           PROB\n",
      "White                            20          61.157           0.0000\n",
      "\n",
      "DIAGNOSTICS FOR SPATIAL DEPENDENCE\n",
      "TEST                           MI/DF       VALUE           PROB\n",
      "Moran's I (error)              0.3818         7.725           0.0000\n",
      "Lagrange Multiplier (lag)         1          51.127           0.0000\n",
      "Robust LM (lag)                   1           0.603           0.4373\n",
      "Lagrange Multiplier (error)       1          51.410           0.0000\n",
      "Robust LM (error)                 1           0.886           0.3464\n",
      "Lagrange Multiplier (SARMA)       2          52.013           0.0000\n",
      "\n",
      "================================ END OF REPORT =====================================\n",
      "REGRESSION\n",
      "----------\n",
      "SUMMARY OF OUTPUT: SPATIAL TWO STAGE LEAST SQUARES\n",
      "--------------------------------------------------\n",
      "Data set            :     unknown\n",
      "Weights matrix      :     unknown\n",
      "Dependent Variable  :    barriers                Number of Observations:         205\n",
      "Mean dependent var  :      1.3659                Number of Variables   :           7\n",
      "S.D. dependent var  :      2.7756                Degrees of Freedom    :         198\n",
      "Pseudo R-squared    :      0.4429\n",
      "Spatial Pseudo R-squared:  0.1890\n",
      "\n",
      "White Standard Errors\n",
      "------------------------------------------------------------------------------------\n",
      "            Variable     Coefficient       Std.Error     z-Statistic     Probability\n",
      "------------------------------------------------------------------------------------\n",
      "            CONSTANT      -0.9122265       0.4210848      -2.1663722       0.0302828\n",
      "           p_nhblk16       1.6717042       0.8824140       1.8944670       0.0581630\n",
      "             p_pov16      -0.4549014       1.8719483      -0.2430096       0.8079980\n",
      "            p_popChg      -2.4207448       0.9885132      -2.4488744       0.0143303\n",
      "             p_vac16      -4.3892034       3.2346722      -1.3569237       0.1748055\n",
      "               pop16       0.0004775       0.0001631       2.9281485       0.0034099\n",
      "          W_barriers       0.5040878       0.2375420       2.1220995       0.0338294\n",
      "------------------------------------------------------------------------------------\n",
      "Instrumented: W_barriers\n",
      "Instruments: W_p_nhblk16, W_p_popChg, W_p_pov16, W_p_vac16, W_pop16\n",
      "\n",
      "DIAGNOSTICS FOR SPATIAL DEPENDENCE\n",
      "TEST                           MI/DF       VALUE           PROB\n",
      "Anselin-Kelejian Test             1           0.202          0.6533\n",
      "================================ END OF REPORT =====================================\n"
     ]
    }
   ],
   "source": [
    "## Barrier Location Models - OLS and GMM Spatial Lag\n",
    "\n",
    "ols_barriers = pysal.spreg.OLS(y2, x3, w=w, name_y=y2_name, name_x=x3_names, spat_diag=True, moran=True, white_test=True, robust='white')\n",
    "print(ols_barriers.summary)\n",
    "\n",
    "gmm_lag_barriers = pysal.spreg.twosls_sp.GM_Lag(y2, x3, w=w, name_y=y2_name, name_x=x3_names, w_lags=1, spat_diag=True, robust='white')\n",
    "print(gmm_lag_barriers.summary)"
   ]
  }
 ],
 "metadata": {
  "kernelspec": {
   "display_name": "Python 3",
   "language": "python",
   "name": "python3"
  },
  "language_info": {
   "codemirror_mode": {
    "name": "ipython",
    "version": 3
   },
   "file_extension": ".py",
   "mimetype": "text/x-python",
   "name": "python",
   "nbconvert_exporter": "python",
   "pygments_lexer": "ipython3",
   "version": "3.7.1"
  }
 },
 "nbformat": 4,
 "nbformat_minor": 2
}
