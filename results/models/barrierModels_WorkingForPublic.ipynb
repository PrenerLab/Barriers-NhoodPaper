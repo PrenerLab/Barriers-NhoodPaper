{
 "cells": [
  {
   "cell_type": "code",
   "execution_count": 1,
   "metadata": {},
   "outputs": [
    {
     "name": "stderr",
     "output_type": "stream",
     "text": [
      "/Anaconda/miniconda3/envs/ppua7237/lib/python3.7/site-packages/pysal/__init__.py:65: VisibleDeprecationWarning: PySAL's API will be changed on 2018-12-31. The last release made with this API is version 1.14.4. A preview of the next API version is provided in the `pysal` 2.0 prelease candidate. The API changes and a guide on how to change imports is provided at https://pysal.org/about\n",
      "  ), VisibleDeprecationWarning)\n"
     ]
    }
   ],
   "source": [
    "import pysal as pysal\n",
    "import numpy as numpy"
   ]
  },
  {
   "cell_type": "code",
   "execution_count": 2,
   "metadata": {},
   "outputs": [],
   "source": [
    "# grid data pathways\n",
    "shp_path = \"/../../data/clean/gridDataCurrent.shp\"\n",
    "dbf_path = \"/../../data/clean/gridDataCurrent.dbf\""
   ]
  },
  {
   "cell_type": "code",
   "execution_count": 4,
   "metadata": {},
   "outputs": [
    {
     "ename": "FileNotFoundError",
     "evalue": "[Errno 2] No such file or directory: '/../../data/clean/gridDataCurrent.dbf'",
     "output_type": "error",
     "traceback": [
      "\u001b[0;31m---------------------------------------------------------------------------\u001b[0m",
      "\u001b[0;31mFileNotFoundError\u001b[0m                         Traceback (most recent call last)",
      "\u001b[0;32m<ipython-input-4-867edc9bc5f0>\u001b[0m in \u001b[0;36m<module>\u001b[0;34m\u001b[0m\n\u001b[1;32m      1\u001b[0m \u001b[0;31m# store function to open grid shapefile\u001b[0m\u001b[0;34m\u001b[0m\u001b[0;34m\u001b[0m\u001b[0;34m\u001b[0m\u001b[0m\n\u001b[0;32m----> 2\u001b[0;31m \u001b[0mf\u001b[0m \u001b[0;34m=\u001b[0m \u001b[0mpysal\u001b[0m\u001b[0;34m.\u001b[0m\u001b[0mopen\u001b[0m\u001b[0;34m(\u001b[0m\u001b[0mdbf_path\u001b[0m\u001b[0;34m)\u001b[0m\u001b[0;34m\u001b[0m\u001b[0;34m\u001b[0m\u001b[0m\n\u001b[0m\u001b[1;32m      3\u001b[0m \u001b[0mprint\u001b[0m\u001b[0;34m(\u001b[0m\u001b[0mf\u001b[0m\u001b[0;34m.\u001b[0m\u001b[0mheader\u001b[0m\u001b[0;34m)\u001b[0m\u001b[0;34m\u001b[0m\u001b[0;34m\u001b[0m\u001b[0m\n",
      "\u001b[0;32m/Anaconda/miniconda3/envs/ppua7237/lib/python3.7/site-packages/pysal/core/IOHandlers/pyDbfIO.py\u001b[0m in \u001b[0;36m__init__\u001b[0;34m(self, *args, **kwargs)\u001b[0m\n\u001b[1;32m     56\u001b[0m         \u001b[0mpysal\u001b[0m\u001b[0;34m.\u001b[0m\u001b[0mcore\u001b[0m\u001b[0;34m.\u001b[0m\u001b[0mTables\u001b[0m\u001b[0;34m.\u001b[0m\u001b[0mDataTable\u001b[0m\u001b[0;34m.\u001b[0m\u001b[0m__init__\u001b[0m\u001b[0;34m(\u001b[0m\u001b[0mself\u001b[0m\u001b[0;34m,\u001b[0m \u001b[0;34m*\u001b[0m\u001b[0margs\u001b[0m\u001b[0;34m,\u001b[0m \u001b[0;34m**\u001b[0m\u001b[0mkwargs\u001b[0m\u001b[0;34m)\u001b[0m\u001b[0;34m\u001b[0m\u001b[0;34m\u001b[0m\u001b[0m\n\u001b[1;32m     57\u001b[0m         \u001b[0;32mif\u001b[0m \u001b[0mself\u001b[0m\u001b[0;34m.\u001b[0m\u001b[0mmode\u001b[0m \u001b[0;34m==\u001b[0m \u001b[0;34m'r'\u001b[0m\u001b[0;34m:\u001b[0m\u001b[0;34m\u001b[0m\u001b[0;34m\u001b[0m\u001b[0m\n\u001b[0;32m---> 58\u001b[0;31m             \u001b[0mself\u001b[0m\u001b[0;34m.\u001b[0m\u001b[0mf\u001b[0m \u001b[0;34m=\u001b[0m \u001b[0mf\u001b[0m \u001b[0;34m=\u001b[0m \u001b[0mopen\u001b[0m\u001b[0;34m(\u001b[0m\u001b[0mself\u001b[0m\u001b[0;34m.\u001b[0m\u001b[0mdataPath\u001b[0m\u001b[0;34m,\u001b[0m \u001b[0;34m'rb'\u001b[0m\u001b[0;34m)\u001b[0m\u001b[0;34m\u001b[0m\u001b[0;34m\u001b[0m\u001b[0m\n\u001b[0m\u001b[1;32m     59\u001b[0m             \u001b[0mnumrec\u001b[0m\u001b[0;34m,\u001b[0m \u001b[0mlenheader\u001b[0m \u001b[0;34m=\u001b[0m \u001b[0mstruct\u001b[0m\u001b[0;34m.\u001b[0m\u001b[0munpack\u001b[0m\u001b[0;34m(\u001b[0m\u001b[0;34m'<xxxxLH22x'\u001b[0m\u001b[0;34m,\u001b[0m \u001b[0mf\u001b[0m\u001b[0;34m.\u001b[0m\u001b[0mread\u001b[0m\u001b[0;34m(\u001b[0m\u001b[0;36m32\u001b[0m\u001b[0;34m)\u001b[0m\u001b[0;34m)\u001b[0m \u001b[0;31m#from dbf file standards\u001b[0m\u001b[0;34m\u001b[0m\u001b[0;34m\u001b[0m\u001b[0m\n\u001b[1;32m     60\u001b[0m             \u001b[0mnumfields\u001b[0m \u001b[0;34m=\u001b[0m \u001b[0;34m(\u001b[0m\u001b[0mlenheader\u001b[0m \u001b[0;34m-\u001b[0m \u001b[0;36m33\u001b[0m\u001b[0;34m)\u001b[0m \u001b[0;34m//\u001b[0m \u001b[0;36m32\u001b[0m \u001b[0;31m#each field is 32 bytes\u001b[0m\u001b[0;34m\u001b[0m\u001b[0;34m\u001b[0m\u001b[0m\n",
      "\u001b[0;31mFileNotFoundError\u001b[0m: [Errno 2] No such file or directory: '/../../data/clean/gridDataCurrent.dbf'"
     ]
    }
   ],
   "source": [
    "# store function to open grid shapefile\n",
    "f = pysal.open(dbf_path)\n",
    "print(f.header)"
   ]
  },
  {
   "cell_type": "code",
   "execution_count": null,
   "metadata": {},
   "outputs": [],
   "source": [
    "# create spatial weight\n",
    "w = pysal.weights.Rook.from_shapefile(shp_path)\n",
    "print w.n\n",
    "print w.histogram"
   ]
  },
  {
   "cell_type": "code",
   "execution_count": null,
   "metadata": {},
   "outputs": [],
   "source": [
    "# read in dependent variables: St. louis violent crime counts and barrier counts\n",
    "y1 = numpy.array([f.by_col('v_crimes')]).T\n",
    "print y1.shape\n",
    "y2 = numpy.array([f.by_col('barriers')]).T\n",
    "print y2.shape"
   ]
  },
  {
   "cell_type": "code",
   "execution_count": null,
   "metadata": {},
   "outputs": [],
   "source": [
    "# create global moran's i\n",
    "mi1 = pysal.Moran(y1, w, two_tailed=False)\n",
    "print \"Global Moran's I For Violent Crime Counts \" \"%.5f\"%mi1.I\n",
    "print \"P-Value \" \"%.5f\"%mi1.p_norm\n",
    "\n",
    "mi2 = pysal.Moran(y2, w, two_tailed=False)\n",
    "print \"Global Moran's I For Barrier Counts \" \"%.5f\"%mi2.I\n",
    "print \"P-Value \" \"%.5f\"%mi2.p_norm"
   ]
  },
  {
   "cell_type": "markdown",
   "metadata": {},
   "source": [
    "## Regression"
   ]
  },
  {
   "cell_type": "code",
   "execution_count": null,
   "metadata": {},
   "outputs": [],
   "source": [
    "# Create arrays for explanatory variables.\n",
    "x1_names = ['p_nhblk16', 'p_pov16', 'p_popChg', 'p_vac16', 'p_vacChg70', 'barriers']\n",
    "x1 = numpy.array([f.by_col(var) for var in x1_names]).T\n",
    "print x1.shape\n",
    "\n",
    "x2_names = ['p_nhblk16', 'p_pov16', 'p_popChg', 'p_vac16', 'pop16', 'barriers']\n",
    "x2 = numpy.array([f.by_col(var) for var in x2_names]).T\n",
    "print x2.shape\n",
    "\n",
    "x3_names = ['p_nhblk16', 'p_pov16', 'p_popChg', 'p_vac16', 'pop16']\n",
    "x3 = numpy.array([f.by_col(var) for var in x3_names]).T\n",
    "print x3.shape\n",
    "\n",
    "x4_names = ['barriers']\n",
    "x4 = numpy.array([f.by_col(var) for var in x4_names]).T\n",
    "print x4.shape"
   ]
  },
  {
   "cell_type": "code",
   "execution_count": null,
   "metadata": {},
   "outputs": [],
   "source": [
    "# create name for dependent variables\n",
    "y1_name = 'v_crimes'\n",
    "y2_name = 'barriers'"
   ]
  },
  {
   "cell_type": "code",
   "execution_count": null,
   "metadata": {},
   "outputs": [],
   "source": [
    "# Crime Count Models - OLS and GMM Spatial Lag\n",
    "\n",
    "ols_vc_count_bar = pysal.spreg.OLS(y1, x4, w=w, name_y=y1_name, name_x=x4_names, spat_diag=True, moran=True, white_test=True, robust='white')\n",
    "print ols_vc_count_bar.summary\n",
    "\n",
    "ols_vc_count = pysal.spreg.OLS(y1, x2, w=w, name_y=y1_name, name_x=x2_names, spat_diag=True, moran=True, white_test=True, robust='white')\n",
    "print ols_vc_count.summary\n",
    "\n",
    "gmm_lag_vc_count = pysal.spreg.twosls_sp.GM_Lag(y1, x2, w=w, name_y=y1_name, name_x=x2_names, w_lags=1, spat_diag=True, robust='white')\n",
    "print gmm_lag_vc_count.summary"
   ]
  },
  {
   "cell_type": "code",
   "execution_count": null,
   "metadata": {},
   "outputs": [],
   "source": [
    "## Barrier Location Models - OLS and GMM Spatial Lag\n",
    "\n",
    "ols_barriers = pysal.spreg.OLS(y2, x3, w=w, name_y=y2_name, name_x=x3_names, spat_diag=True, moran=True, white_test=True, robust='white')\n",
    "print ols_barriers.summary\n",
    "\n",
    "gmm_lag_barriers = pysal.spreg.twosls_sp.GM_Lag(y2, x3, w=w, name_y=y2_name, name_x=x3_names, w_lags=1, spat_diag=True, robust='white')\n",
    "print gmm_lag_barriers.summary"
   ]
  },
  {
   "cell_type": "code",
   "execution_count": null,
   "metadata": {},
   "outputs": [],
   "source": [
    "# Save output\n",
    "with open('results.txt', 'w') as outfile:\n",
    "    print >>outfile, ols_vc_count_bar.summary, ols_vc_count.summary, gmm_lag_vc_count.summary, \\\n",
    "        ols_barriers.summary, gmm_lag_barriers.summary"
   ]
  }
 ],
 "metadata": {
  "kernelspec": {
   "display_name": "Python 3",
   "language": "python",
   "name": "python3"
  },
  "language_info": {
   "codemirror_mode": {
    "name": "ipython",
    "version": 3
   },
   "file_extension": ".py",
   "mimetype": "text/x-python",
   "name": "python",
   "nbconvert_exporter": "python",
   "pygments_lexer": "ipython3",
   "version": "3.7.1"
  }
 },
 "nbformat": 4,
 "nbformat_minor": 2
}
